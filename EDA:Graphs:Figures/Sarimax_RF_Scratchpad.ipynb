{
 "cells": [
  {
   "cell_type": "code",
   "execution_count": 29,
   "metadata": {},
   "outputs": [],
   "source": [
    "import numpy as np\n",
    "import pandas as pd\n",
    "import datetime\n",
    "\n",
    "import math\n",
    "from collections import defaultdict\n",
    "\n",
    "# Modelling Algorithms\n",
    "from sklearn.tree import DecisionTreeClassifier\n",
    "from sklearn.linear_model import LogisticRegression\n",
    "from sklearn.neighbors import KNeighborsClassifier\n",
    "from sklearn.naive_bayes import GaussianNB\n",
    "from sklearn.svm import SVC, LinearSVC\n",
    "from sklearn.ensemble import RandomForestClassifier , GradientBoostingClassifier\n",
    "\n",
    "# Modelling Helpers\n",
    "from sklearn.preprocessing import Imputer , Normalizer , scale\n",
    "from sklearn.cross_validation import train_test_split , StratifiedKFold\n",
    "from sklearn.feature_selection import RFECV\n",
    "from sklearn.model_selection import TimeSeriesSplit\n",
    "from sklearn.ensemble import RandomForestRegressor\n",
    "from sklearn.metrics import mean_squared_error\n",
    "\n",
    "from statsmodels.graphics.tsaplots import plot_acf\n",
    "from statsmodels.graphics.tsaplots import plot_pacf\n",
    "\n",
    "# Visualization\n",
    "from fbprophet import Prophet\n",
    "import matplotlib as mpl\n",
    "import matplotlib.pyplot as plt\n",
    "import matplotlib.pylab as pylab\n",
    "import seaborn as sns"
   ]
  },
  {
   "cell_type": "code",
   "execution_count": 30,
   "metadata": {},
   "outputs": [],
   "source": [
    "df_eviction_3 = pd.read_csv('/Users/mightyhive/Desktop/Galvanize_Course/evictionprediction/Eviction_Data/Eviction_Notices.csv')\n",
    "df_median_housingprice_3 = pd.read_csv('/Users/mightyhive/Desktop/Galvanize_Course/evictionprediction/Eviction_Data/med_sp_zip_code_sf_ca (1).csv')\n",
    "df_census = pd.read_csv('/Users/mightyhive/Desktop/Galvanize_Course/evictionprediction/Eviction_Data/ACS_data_total.csv')\n",
    "df_unemployment = pd.read_csv('/Users/mightyhive/Desktop/Galvanize_Course/evictionprediction/Eviction_Data/Unemployment_Rate.csv')\n",
    "df_capital_improvements = pd.read_csv('/Users/mightyhive/Desktop/Galvanize_Course/evictionprediction/Eviction_Data/Petitions_to_the_Rent_Board.csv')"
   ]
  },
  {
   "cell_type": "code",
   "execution_count": 31,
   "metadata": {},
   "outputs": [
    {
     "data": {
      "text/plain": [
       "Index([u'Eviction ID', u'Address', u'City', u'State',\n",
       "       u'Eviction Notice Source Zipcode', u'File Date', u'Non Payment',\n",
       "       u'Breach', u'Nuisance', u'Illegal Use', u'Failure to Sign Renewal',\n",
       "       u'Access Denial', u'Unapproved Subtenant', u'Owner Move In',\n",
       "       u'Demolition', u'Capital Improvement', u'Substantial Rehab',\n",
       "       u'Ellis Act WithDrawal', u'Condo Conversion', u'Roommate Same Unit',\n",
       "       u'Other Cause', u'Late Payments', u'Lead Remediation', u'Development',\n",
       "       u'Good Samaritan Ends', u'Constraints Date', u'Supervisor District',\n",
       "       u'Neighborhoods - Analysis Boundaries', u'Location', u'Address_Zipcode',\n",
       "       u'Match_Landlord_Tenant_ZIP', u'Specific_Address'],\n",
       "      dtype='object')"
      ]
     },
     "execution_count": 31,
     "metadata": {},
     "output_type": "execute_result"
    }
   ],
   "source": [
    "df_eviction_3.columns"
   ]
  },
  {
   "cell_type": "code",
   "execution_count": 32,
   "metadata": {
    "collapsed": true
   },
   "outputs": [],
   "source": [
    "df_eviction = pd.read_csv('/Users/mightyhive/Desktop/Galvanize_Course/evictionprediction/Eviction_Data/Eviction_Notices.csv')\n",
    "df_median_housingprice = pd.read_csv('/Users/mightyhive/Desktop/Galvanize_Course/evictionprediction/Eviction_Data/med_sp_zip_code_sf_ca (1).csv')\n",
    "df_census = pd.read_csv('/Users/mightyhive/Desktop/Galvanize_Course/evictionprediction/Eviction_Data/ACS_data_total.csv')\n",
    "df_unemployment = pd.read_csv('/Users/mightyhive/Desktop/Galvanize_Course/evictionprediction/Eviction_Data/Unemployment_Rate.csv')\n",
    "\n",
    "\n",
    "def eviction_datetime_shift (df_eviction):\n",
    "\n",
    "    df_eviction['File Date'] = pd.to_datetime(df_eviction['File Date'])\n",
    "    df_eviction['start_of_month_datetime'] = df_eviction['File Date']-pd.offsets.MonthBegin(1)\n",
    "    df_eviction['Address_Zipcode'] = df_eviction['Address_Zipcode'].apply(lambda x:0 if pd.isnull(x) else x)\n",
    "    df_eviction['Address_Zipcode'] = df_eviction['Address_Zipcode'].astype(int).astype(str)\n",
    "    df_eviction['Address_Zipcode'] = df_eviction['Address_Zipcode'].apply(lambda x:'Unknown_ZIP' if x=='0' else x)\n",
    "\n",
    "    df_eviction = df_eviction.groupby(['start_of_month_datetime', 'Address_Zipcode']).sum().reset_index()\n",
    "    df_eviction['Year'] = df_eviction['start_of_month_datetime'].dt.year\n",
    "    df_eviction['Month'] = df_eviction['start_of_month_datetime'].dt.month\n",
    "\n",
    "    return df_eviction\n",
    "\n",
    "def eviction_boolean_cleaning (df_eviction):\n",
    "\n",
    "    df_eviction.replace(False,0,inplace=True)\n",
    "    df_eviction.replace(True,1,inplace=True)\n",
    "    df_eviction['Supervisor District'] = df_eviction['Supervisor District'].astype(str)\n",
    "    df_eviction['Eviction_Notice'] = 1\n",
    "\n",
    "\n",
    "    return df_eviction\n",
    "\n",
    "def data_processing_eviction(df_eviction):\n",
    "    '''Performs a variety of transformations on eviction data from DataSF:\n",
    "\n",
    "    PARAMETERS\n",
    "    ----------\n",
    "    df_eviction: Pandas DataFrame of eviction data from here:'''\n",
    "\n",
    "    boolean_cleaned = eviction_boolean_cleaning(df_eviction)\n",
    "    datetime_shifted = eviction_datetime_shift(boolean_cleaned)\n",
    "\n",
    "    return datetime_shifted\n",
    "\n",
    "def housing_datetime_shift(df_median_housingprice):\n",
    "\n",
    "    df_median_housingprice['period_begin']=pd.to_datetime(df_median_housingprice['period_begin'])\n",
    "    df_median_housingprice['period_end']=pd.to_datetime(df_median_housingprice['period_end'])\n",
    "    df_median_housingprice['one_month_prior']=df_median_housingprice['period_begin']-pd.offsets.MonthBegin(1)+pd.offsets.MonthEnd(1)\n",
    "    df_median_housingprice['three_months_prior']=df_median_housingprice['period_begin']-pd.offsets.MonthBegin(3)+pd.offsets.MonthEnd(1)\n",
    "    df_median_housingprice['six_months_prior']=df_median_housingprice['period_begin']-pd.offsets.MonthBegin(6)+pd.offsets.MonthEnd(1)\n",
    "    df_median_housingprice['one_year_prior']=df_median_housingprice['period_begin']-pd.offsets.MonthBegin(12)+pd.offsets.MonthEnd(1)\n",
    "\n",
    "    return df_median_housingprice\n",
    "\n",
    "def housing_add_time_lags(df_median_housing_price,list_of_time_lags):\n",
    "\n",
    "    for time_lag in list_of_time_lags:\n",
    "        df_median_housing_price = pd.merge(df_median_housing_price,\\\n",
    "                                df_median_housing_price[['median_sale_price','zip_code','period_end']],\\\n",
    "                                how='left',left_on=['zip_code',time_lag],right_on=['zip_code','period_end'],\\\n",
    "                                suffixes=('','_'+time_lag))\n",
    "\n",
    "    return df_median_housing_price\n",
    "\n",
    "def housing_select_columns(df_median_housing_price,selected_columns):\n",
    "\n",
    "    df_median_housing_price = df_median_housing_price[selected_columns]\n",
    "\n",
    "    df_median_housing_price['zip_code']=df_median_housing_price['zip_code'].astype(str)\n",
    "\n",
    "    return df_median_housing_price\n",
    "\n",
    "\n",
    "def data_processing_housing(df_median_housing_price):\n",
    "    '''Performs a variety of transformations on housing price data from Redfin.\n",
    "\n",
    "    PARAMETERS\n",
    "    ----------\n",
    "    df_median_housing_price_2: Pandas data of median house prices in SF. From Redfin.\n",
    "    '''\n",
    "\n",
    "    datetime_shifted_df = housing_datetime_shift(df_median_housing_price)\n",
    "\n",
    "    time_lagged_df = housing_add_time_lags(datetime_shifted_df, ['one_month_prior','three_months_prior',\\\n",
    "                                                                    'six_months_prior','one_year_prior'])\n",
    "    columns_to_select = ['zip_code','period_begin',\\\n",
    "        'period_end','median_sale_price','one_month_prior',\\\n",
    "        'three_months_prior','six_months_prior','one_year_prior',\\\n",
    "        'median_sale_price_one_month_prior', 'median_sale_price_three_months_prior',\\\n",
    "        'median_sale_price_six_months_prior','median_sale_price_one_year_prior']\n",
    "\n",
    "    selected_housing_df = housing_select_columns(time_lagged_df, columns_to_select)\n",
    "\n",
    "    return selected_housing_df\n",
    "\n",
    "\n",
    "\n",
    "def census_cleaning(df_census):\n",
    "\n",
    "    df_census['population']=df_census['HC01_VC03'].astype(int)\n",
    "    df_census['GEO.id2']= df_census['GEO.id2'].astype(str)\n",
    "\n",
    "    return df_census\n",
    "\n",
    "\n",
    "def merged_data_datetime_shift(merged_df):\n",
    "\n",
    "    merged_df = merged_df.drop(['median_sale_price'], axis=1)\n",
    "\n",
    "    merged_df['Month_S'] = merged_df['Month'].map(int)\n",
    "    merged_df['Year_S'] = merged_df['Year'].map(int)\n",
    "    merged_df['Month_Year']= pd.to_datetime(dict(year=merged_df.Year_S, month=merged_df.Month_S, day=1))\n",
    "    merged_df['one_month_prior']=merged_df['Month_Year']-pd.offsets.MonthBegin(1)\n",
    "    merged_df['one_year_prior']=merged_df['Year_S']-1\n",
    "    merged_df['two_years_prior']=merged_df['Year_S']-2\n",
    "    merged_df['three_years_prior']=merged_df['Year_S']-3\n",
    "    merged_df['four_years_prior']=merged_df['Year_S']-4\n",
    "    merged_df['five_years_prior']=merged_df['Year_S']-5\n",
    "    merged_df['datetime_six_months_prior']=merged_df['Month_Year']-pd.offsets.MonthBegin(6)\n",
    "    merged_df['datetime_one_year_prior']=merged_df['Month_Year']-pd.offsets.MonthBegin(12)\n",
    "    # merged_df = pd.merge(merged_df,merged_df[['Eviction_Notice','Month_Year','zip_code']],\\\n",
    "    #                                             how='left', left_on=['one_month_prior','zip_code'],\\\n",
    "    #                                             right_on= ['Month_Year','zip_code'], \\\n",
    "    #                                             suffixes=('','_one_month_prior'))\n",
    "\n",
    "    return merged_df\n",
    "\n",
    "def census_merge(merged_df, df_census):\n",
    "\n",
    "    merged_df = pd.merge(merged_df,df_census,how='left',left_on=['Address_Zipcode', 'one_year_prior'], right_on=['GEO.id2','Year'], suffixes=('','_year_prior'))\n",
    "    merged_df = pd.merge(merged_df,df_census,how='left',left_on=['Address_Zipcode', 'two_years_prior'], right_on=['GEO.id2','Year'], suffixes=('','_two_years_prior'))\n",
    "    merged_df = pd.merge(merged_df,df_census,how='left',left_on=['Address_Zipcode', 'three_years_prior'], right_on=['GEO.id2','Year'], suffixes=('','_three_years_prior'))\n",
    "    merged_df = pd.merge(merged_df,df_census,how='left',left_on=['Address_Zipcode', 'four_years_prior'], right_on=['GEO.id2','Year'], suffixes=('','_four_years_prior'))\n",
    "    merged_df = pd.merge(merged_df,df_census,how='left',left_on=['Address_Zipcode', 'five_years_prior'], right_on=['GEO.id2','Year'], suffixes=('','_five_years_prior'))\n",
    "    merged_df = merged_df.rename(columns={'Estimate; RACE - One race - Black or African American':'Black_population_previous_year','Percent; RACE - One race - White':'percent_white_population_previous_year'})\n",
    "    return merged_df\n",
    "\n",
    "def unemployment_merge(merged_df,df_unemployment):\n",
    "\n",
    "    df_unemployment['DATE'] = pd.to_datetime(df_unemployment.DATE)\n",
    "    merged_df = pd.merge(merged_df,df_unemployment ,how ='left', left_on=['datetime_one_year_prior'], right_on=['DATE'], suffixes=('','_unemployment_year_prior'))\n",
    "    merged_df = pd.merge(merged_df,df_unemployment ,how ='left', left_on=['datetime_six_months_prior'], right_on=['DATE'], suffixes=('','_unemployment_six_months_prior'))\n",
    "    return merged_df\n",
    "\n",
    "def housing_merge(df_eviction_processed,df_median_housing_price_processed):\n",
    "    eviction_housing_merged_df = pd.merge(df_eviction_processed,df_median_housing_price_processed,how='left',\\\n",
    "        left_on=['Address_Zipcode','start_of_month_datetime'],\\\n",
    "        right_on=['zip_code','period_begin'])\n",
    "    return eviction_housing_merged_df\n",
    "\n",
    "def transform_merge_data(df_eviction,df_median_housing_price, df_census, df_unemployment):\n",
    "    '''Performs a variety of transformations and merges with eviction and housing price data\n",
    "\n",
    "    PARAMETERS\n",
    "    ----------\n",
    "    df_eviction: Pandas DataFrame of eviction data from here: https://data.sfgov.org/Housing-and-Buildings/Eviction-Notices/5cei-gny5\n",
    "    df_median_housing_price: Pandas data of median house prices in SF. From Redfin.\n",
    "    df_census: aggregated data from the American Community Survey: https://www.census.gov/programs-surveys/acs/\n",
    "    df_unemployment: unemployment percentage by month for the city of SF: https://fred.stlouisfed.org/series/CASANF0URN'''\n",
    "\n",
    "    df_eviction_processed = data_processing_eviction(df_eviction)\n",
    "    df_median_housing_price_processed = data_processing_housing(df_median_housingprice)\n",
    "    eviction_housing_merged_df = housing_merge(df_eviction_processed,df_median_housing_price_processed)\n",
    "    datetime_shifted_df = merged_data_datetime_shift(eviction_housing_merged_df)\n",
    "    cleaned_census_df = census_cleaning(df_census)\n",
    "    census_merged_df = census_merge(datetime_shifted_df,cleaned_census_df)\n",
    "    unemployment_merged_df= unemployment_merge(census_merged_df,df_unemployment)\n",
    "    final_merged_df = unemployment_merged_df\n",
    "\n",
    "    return final_merged_df\n"
   ]
  },
  {
   "cell_type": "code",
   "execution_count": 33,
   "metadata": {},
   "outputs": [
    {
     "name": "stderr",
     "output_type": "stream",
     "text": [
      "/Users/mightyhive/anaconda/lib/python2.7/site-packages/ipykernel_launcher.py:65: SettingWithCopyWarning: \n",
      "A value is trying to be set on a copy of a slice from a DataFrame.\n",
      "Try using .loc[row_indexer,col_indexer] = value instead\n",
      "\n",
      "See the caveats in the documentation: http://pandas.pydata.org/pandas-docs/stable/indexing.html#indexing-view-versus-copy\n"
     ]
    }
   ],
   "source": [
    "final_df = transform_merge_data(df_eviction_3, df_median_housingprice_3,df_census,df_unemployment)"
   ]
  },
  {
   "cell_type": "code",
   "execution_count": null,
   "metadata": {
    "collapsed": true
   },
   "outputs": [],
   "source": []
  },
  {
   "cell_type": "code",
   "execution_count": null,
   "metadata": {
    "collapsed": true
   },
   "outputs": [],
   "source": []
  },
  {
   "cell_type": "code",
   "execution_count": null,
   "metadata": {
    "collapsed": true
   },
   "outputs": [],
   "source": []
  },
  {
   "cell_type": "code",
   "execution_count": null,
   "metadata": {
    "collapsed": true
   },
   "outputs": [],
   "source": []
  },
  {
   "cell_type": "code",
   "execution_count": null,
   "metadata": {
    "collapsed": true
   },
   "outputs": [],
   "source": []
  },
  {
   "cell_type": "code",
   "execution_count": 34,
   "metadata": {},
   "outputs": [
    {
     "data": {
      "text/plain": [
       "<matplotlib.legend.Legend at 0x1149f2410>"
      ]
     },
     "execution_count": 34,
     "metadata": {},
     "output_type": "execute_result"
    }
   ],
   "source": [
    "plt.plot(final_df.groupby('Month_Year').sum().reset_index()['Month_Year'],final_df.groupby('Month_Year').sum().reset_index()['Eviction_Notice'].apply(lambda x: x/20.),label='Eviction Notices (Divided by 20)',color='#2c7fb8')\n",
    "plt.plot(df_unemployment['DATE'], df_unemployment['CASANF0URN'], label='Unemployment Rate', color='#7fcdbb')\n",
    "# plt.title('Eviction Notices v. Unemployment in San Francisco')\n",
    "plt.xlabel('Months')\n",
    "plt.ylabel('Eviction Notices')\n",
    "plt.legend()"
   ]
  },
  {
   "cell_type": "code",
   "execution_count": 35,
   "metadata": {},
   "outputs": [
    {
     "data": {
      "image/png": "[encoded data removed]",
      "text/plain": [
       "<matplotlib.figure.Figure at 0x1195fd410>"
      ]
     },
     "metadata": {},
     "output_type": "display_data"
    }
   ],
   "source": [
    "plt.show()"
   ]
  },
  {
   "cell_type": "code",
   "execution_count": 36,
   "metadata": {},
   "outputs": [
    {
     "name": "stdout",
     "output_type": "stream",
     "text": [
      "<class 'pandas.core.frame.DataFrame'>\n",
      "RangeIndex: 330 entries, 0 to 329\n",
      "Data columns (total 2 columns):\n",
      "DATE          330 non-null datetime64[ns]\n",
      "CASANF0URN    330 non-null float64\n",
      "dtypes: datetime64[ns](1), float64(1)\n",
      "memory usage: 5.2 KB\n"
     ]
    }
   ],
   "source": [
    "plt.plot(df_unemployment['DATE'], df_unemployment['CASANF0URN'])\n",
    "df_unemployment.info()"
   ]
  },
  {
   "cell_type": "code",
   "execution_count": 37,
   "metadata": {},
   "outputs": [
    {
     "ename": "NameError",
     "evalue": "name 'merged_df' is not defined",
     "output_type": "error",
     "traceback": [
      "\u001b[0;31m---------------------------------------------------------------------------\u001b[0m",
      "\u001b[0;31mNameError\u001b[0m                                 Traceback (most recent call last)",
      "\u001b[0;32m<ipython-input-37-05a7f62351c1>\u001b[0m in \u001b[0;36m<module>\u001b[0;34m()\u001b[0m\n\u001b[0;32m----> 1\u001b[0;31m \u001b[0mmerged_df\u001b[0m \u001b[0;34m=\u001b[0m \u001b[0mpd\u001b[0m\u001b[0;34m.\u001b[0m\u001b[0mmerge\u001b[0m\u001b[0;34m(\u001b[0m\u001b[0mmerged_df\u001b[0m\u001b[0;34m[\u001b[0m\u001b[0;34m[\u001b[0m\u001b[0;34m'Month'\u001b[0m\u001b[0;34m,\u001b[0m \u001b[0;34m'Year'\u001b[0m\u001b[0;34m,\u001b[0m \u001b[0;34m'zip_code'\u001b[0m\u001b[0;34m,\u001b[0m \u001b[0;34m'median_sale_price_one_month_prior'\u001b[0m\u001b[0;34m,\u001b[0m    \u001b[0;34mu'median_sale_price_three_months_prior'\u001b[0m\u001b[0;34m,\u001b[0m\u001b[0;34mu'median_sale_price_six_months_prior'\u001b[0m\u001b[0;34m,\u001b[0m    \u001b[0;34mu'median_sale_price_one_year_prior'\u001b[0m\u001b[0;34m,\u001b[0m\u001b[0;34m'Eviction_Notice'\u001b[0m\u001b[0;34m,\u001b[0m \u001b[0;34m'Month_Year'\u001b[0m\u001b[0;34m,\u001b[0m \u001b[0;34m'Month_S'\u001b[0m\u001b[0;34m,\u001b[0m \u001b[0;34m'Year_S'\u001b[0m\u001b[0;34m,\u001b[0m\u001b[0;34m'one_month_prior'\u001b[0m\u001b[0;34m]\u001b[0m\u001b[0;34m]\u001b[0m\u001b[0;34m,\u001b[0m    \u001b[0mmerged_df\u001b[0m\u001b[0;34m[\u001b[0m\u001b[0;34m[\u001b[0m\u001b[0;34m'Eviction_Notice'\u001b[0m\u001b[0;34m,\u001b[0m\u001b[0;34m'Month_Year'\u001b[0m\u001b[0;34m,\u001b[0m\u001b[0;34m'zip_code'\u001b[0m\u001b[0;34m]\u001b[0m\u001b[0;34m]\u001b[0m\u001b[0;34m,\u001b[0m \u001b[0mhow\u001b[0m\u001b[0;34m=\u001b[0m\u001b[0;34m'left'\u001b[0m\u001b[0;34m,\u001b[0m \u001b[0mleft_on\u001b[0m\u001b[0;34m=\u001b[0m\u001b[0;34m[\u001b[0m\u001b[0;34m'one_month_prior'\u001b[0m\u001b[0;34m,\u001b[0m\u001b[0;34m'zip_code'\u001b[0m\u001b[0;34m]\u001b[0m\u001b[0;34m,\u001b[0m\u001b[0mright_on\u001b[0m\u001b[0;34m=\u001b[0m \u001b[0;34m[\u001b[0m\u001b[0;34m'Month_Year'\u001b[0m\u001b[0;34m,\u001b[0m\u001b[0;34m'zip_code'\u001b[0m\u001b[0;34m]\u001b[0m\u001b[0;34m,\u001b[0m \u001b[0msuffixes\u001b[0m\u001b[0;34m=\u001b[0m\u001b[0;34m(\u001b[0m\u001b[0;34m''\u001b[0m\u001b[0;34m,\u001b[0m\u001b[0;34m'_one_month_prior'\u001b[0m\u001b[0;34m)\u001b[0m\u001b[0;34m)\u001b[0m\u001b[0;34m\u001b[0m\u001b[0m\n\u001b[0m",
      "\u001b[0;31mNameError\u001b[0m: name 'merged_df' is not defined"
     ]
    }
   ],
   "source": [
    "    merged_df = pd.merge(merged_df[['Month', 'Year', 'zip_code', 'median_sale_price_one_month_prior',\\\n",
    "        u'median_sale_price_three_months_prior',u'median_sale_price_six_months_prior',\\\n",
    "        u'median_sale_price_one_year_prior','Eviction_Notice', 'Month_Year', 'Month_S', 'Year_S','one_month_prior']],\\\n",
    "        merged_df[['Eviction_Notice','Month_Year','zip_code']], how='left', left_on=['one_month_prior','zip_code'],right_on= ['Month_Year','zip_code'], suffixes=('','_one_month_prior'))"
   ]
  },
  {
   "cell_type": "code",
   "execution_count": null,
   "metadata": {
    "collapsed": true
   },
   "outputs": [],
   "source": [
    "\n",
    "merged_df['one_year_prior']=merged_df['Year_S']-1\n",
    "merged_df['two_years_prior']=merged_df['Year_S']-2\n",
    "merged_df['three_years_prior']=merged_df['Year_S']-3\n",
    "merged_df['four_years_prior']=merged_df['Year_S']-4\n",
    "merged_df['five_years_prior']=merged_df['Year_S']-5\n",
    "merged_df['datetime_one_year_prior']=merged_df['Month_Year']-pd.Timedelta(days=365)\n",
    "merged_df['datetime_six_months_prior']=merged_df['Month_Year']-pd.offsets.MonthBegin(6)"
   ]
  },
  {
   "cell_type": "code",
   "execution_count": null,
   "metadata": {
    "collapsed": true
   },
   "outputs": [],
   "source": [
    "merged_df = pd.merge(merged_df,df_census[['GEO.id2','HC01_VC03','Year']],how='left',left_on=['zip_code', 'one_year_prior'], right_on=['GEO.id2','Year'], suffixes=('','_year_prior'))\n",
    "merged_df = pd.merge(merged_df,df_census[['GEO.id2','HC01_VC03','Year']],how='left',left_on=['zip_code', 'two_years_prior'], right_on=['GEO.id2','Year'], suffixes=('','_two_years_prior'))\n",
    "merged_df = pd.merge(merged_df,df_census[['GEO.id2','HC01_VC03','Year']],how='left',left_on=['zip_code', 'three_years_prior'], right_on=['GEO.id2','Year'], suffixes=('','_three_years_prior'))\n",
    "merged_df = pd.merge(merged_df,df_census[['GEO.id2','HC01_VC03','Year']],how='left',left_on=['zip_code', 'four_years_prior'], right_on=['GEO.id2','Year'], suffixes=('','_four_years_prior'))\n",
    "merged_df = pd.merge(merged_df,df_census[['GEO.id2','HC01_VC03','Year']],how='left',left_on=['zip_code', 'five_years_prior'], right_on=['GEO.id2','Year'], suffixes=('','_five_years_prior'))"
   ]
  },
  {
   "cell_type": "code",
   "execution_count": null,
   "metadata": {
    "collapsed": true
   },
   "outputs": [],
   "source": [
    "merged_df = pd.merge(merged_df,df_unemployment ,how ='left', left_on=['datetime_one_year_prior'], right_on=['DATE'], suffixes=('','_unemployment_year_prior'))\n",
    "merged_df = pd.merge(merged_df,df_unemployment ,how ='left', left_on=['datetime_six_months_prior'], right_on=['DATE'], suffixes=('','_unemployment_six_months_prior'))\n",
    "\n"
   ]
  },
  {
   "cell_type": "code",
   "execution_count": null,
   "metadata": {
    "collapsed": true
   },
   "outputs": [],
   "source": [
    "merged_df.columns\n"
   ]
  },
  {
   "cell_type": "code",
   "execution_count": null,
   "metadata": {
    "collapsed": true
   },
   "outputs": [],
   "source": [
    "sorted_1 = merged_df[['Month', 'Year', 'Month_S','Year_S','zip_code', 'Month_Year','Eviction_Notice','CASANF0URN_unemployment_six_months_prior','CASANF0URN','Eviction_Notice_one_month_prior','HC01_VC03']].sort_values(['Month_Year'])\n",
    "sorted_1['Day_S'] = merged_df['Month_Year'].dt.day\n",
    "sorted_1 = sorted_1.dropna(subset=['HC01_VC03','Eviction_Notice_one_month_prior', 'CASANF0URN_unemployment_six_months_prior','CASANF0URN'])\n",
    "\n",
    "sorted_1 = sorted_1.reset_index(drop=True)\n",
    "sorted_1.info()"
   ]
  },
  {
   "cell_type": "code",
   "execution_count": null,
   "metadata": {
    "collapsed": true
   },
   "outputs": [],
   "source": [
    "    y = sorted_1.pop('Eviction_Notice')\n",
    "    X = sorted_1.drop(['Month_Year','Month_S','Year_S','Day_S'], axis=1)"
   ]
  },
  {
   "cell_type": "code",
   "execution_count": null,
   "metadata": {
    "collapsed": true
   },
   "outputs": [],
   "source": [
    "X.info()"
   ]
  },
  {
   "cell_type": "code",
   "execution_count": null,
   "metadata": {
    "collapsed": true
   },
   "outputs": [],
   "source": [
    "    months = sorted_1[sorted_1['Month_Year']>min(sorted_1['Month_Year'])][['Year_S','Month_S', \n",
    "                                                                          'Day_S']]\n",
    "    months.drop_duplicates(inplace=True)\n",
    "    months_list = [datetime.datetime(*x) for x in months.values]"
   ]
  },
  {
   "cell_type": "code",
   "execution_count": null,
   "metadata": {
    "collapsed": true
   },
   "outputs": [],
   "source": []
  },
  {
   "cell_type": "code",
   "execution_count": null,
   "metadata": {
    "collapsed": true
   },
   "outputs": [],
   "source": []
  },
  {
   "cell_type": "code",
   "execution_count": null,
   "metadata": {
    "collapsed": true
   },
   "outputs": [],
   "source": [
    "    y_true_values = []\n",
    "    y_predicted_values = []\n",
    "    rfr = RandomForestRegressor()\n",
    "\n",
    "    zip_dict_true =defaultdict(list)\n",
    "    zip_dict_predicted = defaultdict(list)\n",
    "    rmse_final_dict = {}\n",
    "\n",
    "    i=0\n",
    "    for month in months_list:\n",
    "        train_indices = sorted_1[sorted_1['Month_Year']<month].index\n",
    "        test_indices = sorted_1[sorted_1['Month_Year']==month].index\n",
    "        X_train, X_test = X.iloc[train_indices], X.iloc[test_indices]\n",
    "        y_train, y_test = y.iloc[train_indices], y.iloc[test_indices].tolist()\n",
    "        rfr.fit(X_train,y_train)\n",
    "        y_hat = rfr.predict(X_test).tolist()\n",
    "        y_predicted_values.extend(y_hat)\n",
    "        y_true_values.extend(y_test)\n",
    "        zip_counter=0\n",
    "        for zip_code in sorted_1.iloc[test_indices]['zip_code']:\n",
    "            zip_dict_predicted[zip_code].append(y_hat[zip_counter])\n",
    "            zip_dict_true[zip_code].append(y_test[zip_counter])\n",
    "            zip_counter+=1\n",
    "        i+=1\n",
    "        print i\n",
    "\n"
   ]
  },
  {
   "cell_type": "code",
   "execution_count": null,
   "metadata": {
    "collapsed": true
   },
   "outputs": [],
   "source": [
    "for zip_code in zip_dict_true.keys():\n",
    "    rmse_final_dict[zip_code] = (mean_squared_error(zip_dict_true[zip_code],zip_dict_predicted[zip_code]))**0.5 \n",
    "\n",
    "\n",
    "           \n",
    "print rmse_final_dict\n",
    "#17.6895418716, 17.3273997833, 13.2676012768, 13.1281358083, 12.3186985226, 9.4669(each month, \n",
    "#'Month', 'Year', 'Month_S','Year_S','zip_code', 'Month_Year','Eviction_Notice','median_sale_price_one_year_prior','CASANF0URN_unemployment_year_prior','HC01_VC03')"
   ]
  },
  {
   "cell_type": "code",
   "execution_count": null,
   "metadata": {
    "collapsed": true
   },
   "outputs": [],
   "source": [
    "#Best Forest\n",
    "# {'94131': 2.7320765773020392, '94132': 34.952857139613386, '94133': 4.8168622735305773, '94134': 2.8900815608856836, '94118': 3.3600181877814626, '94112': 5.0070220960437419, '94110': 8.2202123994390739, '94111': 0.74274266517190646, '94116': 3.9255572852781042, '94117': 5.3762239335600395, '94114': 3.9242833740697165, '94115': 3.7112815995436281, '94127': 1.9988039902162362, '94124': 2.9140464420915917, '94123': 3.9729490714486038, '94122': 3.309078421554859, '94121': 4.0643805418771004, '94109': 4.6317062409767198, '94108': 3.954790812466618, '94103': 14.427563709600959, '94102': 5.3254615331011959, '94105': 1.1803954139750517, '94104': 0.5, '94107': 2.1746407749327243}\n",
    "# {'94131': 2.7499311286141714, '94132': 34.707564017084223, '94133': 4.4864661347633481, '94134': 2.7121420106097478, '94118': 3.457319128393495, '94112': 4.7733211283753576, '94110': 8.1839328416572901, '94111': 2.3266571155486861, '94116': 3.217519608709857, '94117': 5.1886570673115564, '94114': 3.6386068019860924, '94115': 3.6804664559445901, '94127': 1.9779216144841227, '94124': 3.1887824217612173, '94123': 2.8936556884403584, '94122': 3.6137126226249534, '94121': 3.7489097514243155, '94109': 5.1032316205491766, '94108': 4.845731225636758, '94103': 15.387402710079506, '94102': 4.9765667097122508, '94105': 1.6248076809271921, '94104': 0.44721359549995798, '94107': 2.0053054630155476\n",
    "# {'94131': 3.0098172702009669, '94132': 37.923157738473506, '94133': 7.5383314253199361, '94134': 9.0275638513892051, '94118': 3.9507965150648134, '94112': 4.885346473843132, '94110': 6.5932682670036993, '94111': 7.0297718531750597, '94116': 3.2446176754201912, '94117': 5.0612017063010244, '94114': 3.5151887181398855, '94115': 3.8286803344557607, '94127': 3.8694960912242826, '94124': 3.2558449465214823, '94123': 3.9523861061646532, '94122': 4.0662313372625016, '94121': 3.6133462588631993, '94109': 4.8416099017452829, '94108': 4.8881572839520064, '94103': 36.007295716668118, '94102': 12.109878304193355, '94105': 1.1874342087037917, '94104': 12.607008632767197, '94107': 1.6337780660881602}\n",
    "\n",
    "#Best sarimax with no exogenous - all 1,1,1 1,1,1,12 for p,d,q P,D,Q,S\n",
    "#{'94102': 7.0664784226736259,\n",
    "#  '94103': 32.864507696727912,\n",
    "#  '94107': 1.8762496148670962,\n",
    "#  '94109': 6.3122197310239976,\n",
    "#  '94110': 8.3078312816425601,\n",
    "#  '94112': 6.4814593173184472,\n",
    "#  '94114': 3.6817356832284047,\n",
    "#  '94115': 4.301800870693901,\n",
    "#  '94116': 3.680716958275188,\n",
    "#  '94117': 4.744228061940329,\n",
    "#  '94118': 4.1339630928517694,\n",
    "#  '94121': 4.4055544523536536,\n",
    "#  '94122': 4.5135517079430922,\n",
    "#  '94123': 2.8087427577934601,\n",
    "#  '94124': 3.3589269750048696,\n",
    "#  '94127': 1.8452635062796088,\n",
    "#  '94131': 3.6671607031582756,\n",
    "#  '94132': 28.390857910814866,\n",
    "#  '94133': 5.5495515052501352,\n",
    "#  '94134': 3.3825218654015892}\n",
    "\n",
    "#2nd Best sarimax - includes unemployment from previous year\n",
    "# {'94102': 4.5372978592954416,\n",
    "#  '94103': 15.953056102179051,\n",
    "#  '94107': 1.756172470924739,\n",
    "#  '94108': 3.3189031205861892,\n",
    "#  '94109': 6.6426772867611641,\n",
    "#  '94110': 8.605328289078118,\n",
    "#  '94112': 6.127551560563659,\n",
    "#  '94114': 3.5327083608235905,\n",
    "#  '94115': 3.9181131092519577,\n",
    "#  '94116': 3.5115326838718048,\n",
    "#  '94117': 4.205555339306402,\n",
    "#  '94118': 3.6875245429602646,\n",
    "#  '94121': 4.5009196764944202,\n",
    "#  '94122': 4.386821011210376,\n",
    "#  '94123': 2.3355447827512918,\n",
    "#  '94124': 2.9547316001907076,\n",
    "#  '94127': 1.9805148125986205,\n",
    "#  '94132': 30.181500966433024,\n",
    "#  '94133': 5.5563353133133688,\n",
    "#  '94134': 3.3832831743361393}\n",
    "\n",
    "# slightly better sarimax - unemployment from six months ago and 1 year ago\n",
    "# {'94102': 4.629852534758621,\n",
    "#  '94103': 12.908029329353134,\n",
    "#  '94107': 1.7060700864655898,\n",
    "#  '94108': 3.6773549007211432,\n",
    "#  '94109': 5.6109803064478987,\n",
    "#  '94110': 8.1488491650299988,\n",
    "#  '94112': 5.0505072127872399,\n",
    "#  '94114': 3.4737614397836509,\n",
    "#  '94115': 3.7055785521263043,\n",
    "#  '94116': 3.1574215693037546,\n",
    "#  '94117': 4.4724983928975606,\n",
    "#  '94118': 3.4479037969697552,\n",
    "#  '94121': 4.1315539075147028,\n",
    "#  '94122': 3.8148970043365171,\n",
    "#  '94123': 2.3038045507584464,\n",
    "#  '94124': 3.1195089920430323,\n",
    "#  '94127': 2.0205281308892693,\n",
    "#  '94132': 33.605328065710154,\n",
    "#  '94133': 4.9374601277839396,\n",
    "#  '94134': 3.440297179625452}\n",
    "\n",
    "\n",
    "\n",
    "defaultdict(list,\n",
    "            {'94102': [(1, 1, 1), (1, 1, 1, 12)],\n",
    "             '94103': [(1, 1, 1), (1, 1, 1, 12)],\n",
    "             '94104': [(1, 0, 0), (0, 0, 0, 12)],\n",
    "             '94105': [(1, 1, 1), (1, 1, 0, 3)],\n",
    "             '94107': [(1, 1, 1), (1, 1, 1, 12)],\n",
    "             '94108': [(1, 1, 1), (1, 1, 1, 12)],\n",
    "             '94109': [(1, 1, 1), (1, 1, 1, 12)],\n",
    "             '94110': [(1, 1, 1), (1, 1, 1, 12)],\n",
    "             '94111': [(1, 1, 1), (1, 1, 1, 3)],\n",
    "             '94112': [(1, 1, 1), (1, 1, 1, 12)],\n",
    "             '94114': [(1, 1, 1), (1, 1, 1, 12)],\n",
    "             '94115': [(1, 1, 1), (1, 1, 1, 12)],\n",
    "             '94116': [(1, 1, 1), (1, 1, 1, 12)],\n",
    "             '94117': [(1, 1, 1), (1, 1, 1, 12)],\n",
    "             '94118': [(1, 1, 1), (1, 1, 1, 12)],\n",
    "             '94121': [(1, 1, 1), (1, 1, 1, 12)],\n",
    "             '94122': [(1, 1, 1), (1, 1, 1, 12)],\n",
    "             '94123': [(1, 1, 1), (1, 1, 1, 12)],\n",
    "             '94124': [(1, 1, 1), (1, 1, 1, 12)],\n",
    "             '94127': [(1, 1, 1), (1, 1, 1, 12)],\n",
    "             '94131': [(1, 1, 1), (1, 1, 1, 12)],\n",
    "             '94132': [(1, 1, 1), (1, 1, 1, 12)],\n",
    "             '94133': [(1, 1, 1), (1, 1, 1, 12)],\n",
    "             '94134': [(1, 1, 1), (1, 1, 1, 12)],\n",
    "             '94158': [None, None]})"
   ]
  },
  {
   "cell_type": "code",
   "execution_count": null,
   "metadata": {
    "collapsed": true
   },
   "outputs": [],
   "source": [
    "plt.show()"
   ]
  },
  {
   "cell_type": "code",
   "execution_count": null,
   "metadata": {
    "collapsed": true
   },
   "outputs": [],
   "source": [
    "plt.plot(df_unemployment['DATE'], df_unemployment['CASANF0URN'])"
   ]
  },
  {
   "cell_type": "code",
   "execution_count": null,
   "metadata": {
    "collapsed": true
   },
   "outputs": [],
   "source": [
    "plt.show()"
   ]
  },
  {
   "cell_type": "code",
   "execution_count": null,
   "metadata": {
    "collapsed": true
   },
   "outputs": [],
   "source": [
    "merged_df.corr()"
   ]
  },
  {
   "cell_type": "code",
   "execution_count": null,
   "metadata": {
    "collapsed": true
   },
   "outputs": [],
   "source": [
    "merged_df.head()"
   ]
  },
  {
   "cell_type": "code",
   "execution_count": null,
   "metadata": {
    "collapsed": true
   },
   "outputs": [],
   "source": [
    "df_median_housing_price_2"
   ]
  },
  {
   "cell_type": "code",
   "execution_count": null,
   "metadata": {
    "collapsed": true
   },
   "outputs": [],
   "source": [
    "sorted_df = merged_df[['Month_Year','Eviction_Notice']].groupby('Month_Year').sum().reset_index()\n",
    "sorted_df['Eviction_Notice']= sorted_df['Eviction_Notice'].astype(float)\n",
    "y = sorted_df[['Month_Year','Eviction_Notice']].set_index(['Month_Year'], inplace=False)\n"
   ]
  },
  {
   "cell_type": "code",
   "execution_count": null,
   "metadata": {
    "collapsed": true
   },
   "outputs": [],
   "source": [
    "plot_pacf(y)\n"
   ]
  },
  {
   "cell_type": "code",
   "execution_count": null,
   "metadata": {
    "collapsed": true
   },
   "outputs": [],
   "source": [
    "explore = merged_df.groupby(['Month_Year','Eviction Notice Source Zipcode']).sum().reset_index()[['Eviction_Notice','Eviction Notice Source Zipcode','Year_S']]"
   ]
  },
  {
   "cell_type": "code",
   "execution_count": null,
   "metadata": {
    "collapsed": true
   },
   "outputs": [],
   "source": [
    "explore[explore['Year_S']==2016.0].sort_values('Eviction_Notice')"
   ]
  },
  {
   "cell_type": "code",
   "execution_count": null,
   "metadata": {
    "collapsed": true
   },
   "outputs": [],
   "source": [
    "new_merge = pd.merge(final_df)"
   ]
  },
  {
   "cell_type": "code",
   "execution_count": 38,
   "metadata": {
    "collapsed": true
   },
   "outputs": [],
   "source": [
    "capital_improvement_filtered = df_capital_improvements[['Petition Source Zipcode','Date Filed','Ground (landlord): Capital Improvement']]"
   ]
  },
  {
   "cell_type": "code",
   "execution_count": 39,
   "metadata": {
    "scrolled": true
   },
   "outputs": [
    {
     "name": "stderr",
     "output_type": "stream",
     "text": [
      "/Users/mightyhive/anaconda/lib/python2.7/site-packages/ipykernel_launcher.py:1: SettingWithCopyWarning: \n",
      "A value is trying to be set on a copy of a slice from a DataFrame.\n",
      "Try using .loc[row_indexer,col_indexer] = value instead\n",
      "\n",
      "See the caveats in the documentation: http://pandas.pydata.org/pandas-docs/stable/indexing.html#indexing-view-versus-copy\n",
      "  \"\"\"Entry point for launching an IPython kernel.\n",
      "/Users/mightyhive/anaconda/lib/python2.7/site-packages/ipykernel_launcher.py:2: SettingWithCopyWarning: \n",
      "A value is trying to be set on a copy of a slice from a DataFrame.\n",
      "Try using .loc[row_indexer,col_indexer] = value instead\n",
      "\n",
      "See the caveats in the documentation: http://pandas.pydata.org/pandas-docs/stable/indexing.html#indexing-view-versus-copy\n",
      "  \n"
     ]
    }
   ],
   "source": [
    "capital_improvement_filtered['Date Filed'] = pd.to_datetime(capital_improvement_filtered['Date Filed'])\n",
    "capital_improvement_filtered['Date Filed'] = capital_improvement_filtered['Date Filed'] -pd.offsets.MonthBegin(1)\n"
   ]
  },
  {
   "cell_type": "code",
   "execution_count": 40,
   "metadata": {
    "collapsed": true
   },
   "outputs": [],
   "source": [
    "new_capital_df = capital_improvement_filtered.groupby(['Date Filed','Petition Source Zipcode']).sum().reset_index()"
   ]
  },
  {
   "cell_type": "code",
   "execution_count": 41,
   "metadata": {
    "collapsed": true
   },
   "outputs": [],
   "source": [
    "merged_final = pd.merge(final_df,new_capital_df,how='left',left_on=['Address_Zipcode','datetime_six_months_prior'], right_on=['Petition Source Zipcode','Date Filed'])\n",
    "\n",
    "# merged[['Address_Zipcode','Eviction_Notice','Ground (landlord): Capital Improvement','Month_Year']]\n"
   ]
  },
  {
   "cell_type": "code",
   "execution_count": 42,
   "metadata": {},
   "outputs": [
    {
     "data": {
      "text/html": [
       "<div>\n",
       "<style>\n",
       "    .dataframe thead tr:only-child th {\n",
       "        text-align: right;\n",
       "    }\n",
       "\n",
       "    .dataframe thead th {\n",
       "        text-align: left;\n",
       "    }\n",
       "\n",
       "    .dataframe tbody tr th {\n",
       "        vertical-align: top;\n",
       "    }\n",
       "</style>\n",
       "<table border=\"1\" class=\"dataframe\">\n",
       "  <thead>\n",
       "    <tr style=\"text-align: right;\">\n",
       "      <th></th>\n",
       "      <th>Address_Zipcode</th>\n",
       "      <th>Eviction_Notice</th>\n",
       "      <th>Ground (landlord): Capital Improvement</th>\n",
       "      <th>Month_Year</th>\n",
       "    </tr>\n",
       "  </thead>\n",
       "  <tbody>\n",
       "    <tr>\n",
       "      <th>0</th>\n",
       "      <td>94102</td>\n",
       "      <td>5</td>\n",
       "      <td>NaN</td>\n",
       "      <td>1997-01-01</td>\n",
       "    </tr>\n",
       "    <tr>\n",
       "      <th>1</th>\n",
       "      <td>94103</td>\n",
       "      <td>7</td>\n",
       "      <td>NaN</td>\n",
       "      <td>1997-01-01</td>\n",
       "    </tr>\n",
       "    <tr>\n",
       "      <th>2</th>\n",
       "      <td>94107</td>\n",
       "      <td>1</td>\n",
       "      <td>NaN</td>\n",
       "      <td>1997-01-01</td>\n",
       "    </tr>\n",
       "    <tr>\n",
       "      <th>3</th>\n",
       "      <td>94108</td>\n",
       "      <td>4</td>\n",
       "      <td>NaN</td>\n",
       "      <td>1997-01-01</td>\n",
       "    </tr>\n",
       "    <tr>\n",
       "      <th>4</th>\n",
       "      <td>94109</td>\n",
       "      <td>10</td>\n",
       "      <td>NaN</td>\n",
       "      <td>1997-01-01</td>\n",
       "    </tr>\n",
       "    <tr>\n",
       "      <th>5</th>\n",
       "      <td>94110</td>\n",
       "      <td>20</td>\n",
       "      <td>NaN</td>\n",
       "      <td>1997-01-01</td>\n",
       "    </tr>\n",
       "    <tr>\n",
       "      <th>6</th>\n",
       "      <td>94112</td>\n",
       "      <td>8</td>\n",
       "      <td>NaN</td>\n",
       "      <td>1997-01-01</td>\n",
       "    </tr>\n",
       "    <tr>\n",
       "      <th>7</th>\n",
       "      <td>94114</td>\n",
       "      <td>10</td>\n",
       "      <td>NaN</td>\n",
       "      <td>1997-01-01</td>\n",
       "    </tr>\n",
       "    <tr>\n",
       "      <th>8</th>\n",
       "      <td>94115</td>\n",
       "      <td>8</td>\n",
       "      <td>NaN</td>\n",
       "      <td>1997-01-01</td>\n",
       "    </tr>\n",
       "    <tr>\n",
       "      <th>9</th>\n",
       "      <td>94116</td>\n",
       "      <td>6</td>\n",
       "      <td>NaN</td>\n",
       "      <td>1997-01-01</td>\n",
       "    </tr>\n",
       "    <tr>\n",
       "      <th>10</th>\n",
       "      <td>94117</td>\n",
       "      <td>10</td>\n",
       "      <td>NaN</td>\n",
       "      <td>1997-01-01</td>\n",
       "    </tr>\n",
       "    <tr>\n",
       "      <th>11</th>\n",
       "      <td>94118</td>\n",
       "      <td>6</td>\n",
       "      <td>NaN</td>\n",
       "      <td>1997-01-01</td>\n",
       "    </tr>\n",
       "    <tr>\n",
       "      <th>12</th>\n",
       "      <td>94121</td>\n",
       "      <td>9</td>\n",
       "      <td>NaN</td>\n",
       "      <td>1997-01-01</td>\n",
       "    </tr>\n",
       "    <tr>\n",
       "      <th>13</th>\n",
       "      <td>94122</td>\n",
       "      <td>11</td>\n",
       "      <td>NaN</td>\n",
       "      <td>1997-01-01</td>\n",
       "    </tr>\n",
       "    <tr>\n",
       "      <th>14</th>\n",
       "      <td>94123</td>\n",
       "      <td>6</td>\n",
       "      <td>NaN</td>\n",
       "      <td>1997-01-01</td>\n",
       "    </tr>\n",
       "    <tr>\n",
       "      <th>15</th>\n",
       "      <td>94124</td>\n",
       "      <td>1</td>\n",
       "      <td>NaN</td>\n",
       "      <td>1997-01-01</td>\n",
       "    </tr>\n",
       "    <tr>\n",
       "      <th>16</th>\n",
       "      <td>94127</td>\n",
       "      <td>4</td>\n",
       "      <td>NaN</td>\n",
       "      <td>1997-01-01</td>\n",
       "    </tr>\n",
       "    <tr>\n",
       "      <th>17</th>\n",
       "      <td>94131</td>\n",
       "      <td>3</td>\n",
       "      <td>NaN</td>\n",
       "      <td>1997-01-01</td>\n",
       "    </tr>\n",
       "    <tr>\n",
       "      <th>18</th>\n",
       "      <td>94132</td>\n",
       "      <td>3</td>\n",
       "      <td>NaN</td>\n",
       "      <td>1997-01-01</td>\n",
       "    </tr>\n",
       "    <tr>\n",
       "      <th>19</th>\n",
       "      <td>94133</td>\n",
       "      <td>9</td>\n",
       "      <td>NaN</td>\n",
       "      <td>1997-01-01</td>\n",
       "    </tr>\n",
       "    <tr>\n",
       "      <th>20</th>\n",
       "      <td>94134</td>\n",
       "      <td>3</td>\n",
       "      <td>NaN</td>\n",
       "      <td>1997-01-01</td>\n",
       "    </tr>\n",
       "    <tr>\n",
       "      <th>21</th>\n",
       "      <td>Unknown_ZIP</td>\n",
       "      <td>39</td>\n",
       "      <td>NaN</td>\n",
       "      <td>1997-01-01</td>\n",
       "    </tr>\n",
       "    <tr>\n",
       "      <th>22</th>\n",
       "      <td>94102</td>\n",
       "      <td>5</td>\n",
       "      <td>NaN</td>\n",
       "      <td>1997-02-01</td>\n",
       "    </tr>\n",
       "    <tr>\n",
       "      <th>23</th>\n",
       "      <td>94103</td>\n",
       "      <td>6</td>\n",
       "      <td>NaN</td>\n",
       "      <td>1997-02-01</td>\n",
       "    </tr>\n",
       "    <tr>\n",
       "      <th>24</th>\n",
       "      <td>94107</td>\n",
       "      <td>3</td>\n",
       "      <td>NaN</td>\n",
       "      <td>1997-02-01</td>\n",
       "    </tr>\n",
       "    <tr>\n",
       "      <th>25</th>\n",
       "      <td>94108</td>\n",
       "      <td>2</td>\n",
       "      <td>NaN</td>\n",
       "      <td>1997-02-01</td>\n",
       "    </tr>\n",
       "    <tr>\n",
       "      <th>26</th>\n",
       "      <td>94109</td>\n",
       "      <td>13</td>\n",
       "      <td>NaN</td>\n",
       "      <td>1997-02-01</td>\n",
       "    </tr>\n",
       "    <tr>\n",
       "      <th>27</th>\n",
       "      <td>94110</td>\n",
       "      <td>23</td>\n",
       "      <td>NaN</td>\n",
       "      <td>1997-02-01</td>\n",
       "    </tr>\n",
       "    <tr>\n",
       "      <th>28</th>\n",
       "      <td>94111</td>\n",
       "      <td>1</td>\n",
       "      <td>NaN</td>\n",
       "      <td>1997-02-01</td>\n",
       "    </tr>\n",
       "    <tr>\n",
       "      <th>29</th>\n",
       "      <td>94112</td>\n",
       "      <td>4</td>\n",
       "      <td>NaN</td>\n",
       "      <td>1997-02-01</td>\n",
       "    </tr>\n",
       "    <tr>\n",
       "      <th>...</th>\n",
       "      <td>...</td>\n",
       "      <td>...</td>\n",
       "      <td>...</td>\n",
       "      <td>...</td>\n",
       "    </tr>\n",
       "    <tr>\n",
       "      <th>5168</th>\n",
       "      <td>94121</td>\n",
       "      <td>5</td>\n",
       "      <td>3.0</td>\n",
       "      <td>2017-04-01</td>\n",
       "    </tr>\n",
       "    <tr>\n",
       "      <th>5169</th>\n",
       "      <td>94122</td>\n",
       "      <td>9</td>\n",
       "      <td>1.0</td>\n",
       "      <td>2017-04-01</td>\n",
       "    </tr>\n",
       "    <tr>\n",
       "      <th>5170</th>\n",
       "      <td>94124</td>\n",
       "      <td>7</td>\n",
       "      <td>0.0</td>\n",
       "      <td>2017-04-01</td>\n",
       "    </tr>\n",
       "    <tr>\n",
       "      <th>5171</th>\n",
       "      <td>94132</td>\n",
       "      <td>4</td>\n",
       "      <td>0.0</td>\n",
       "      <td>2017-04-01</td>\n",
       "    </tr>\n",
       "    <tr>\n",
       "      <th>5172</th>\n",
       "      <td>94133</td>\n",
       "      <td>4</td>\n",
       "      <td>5.0</td>\n",
       "      <td>2017-04-01</td>\n",
       "    </tr>\n",
       "    <tr>\n",
       "      <th>5173</th>\n",
       "      <td>94134</td>\n",
       "      <td>6</td>\n",
       "      <td>0.0</td>\n",
       "      <td>2017-04-01</td>\n",
       "    </tr>\n",
       "    <tr>\n",
       "      <th>5174</th>\n",
       "      <td>Unknown_ZIP</td>\n",
       "      <td>4</td>\n",
       "      <td>NaN</td>\n",
       "      <td>2017-04-01</td>\n",
       "    </tr>\n",
       "    <tr>\n",
       "      <th>5175</th>\n",
       "      <td>94102</td>\n",
       "      <td>2</td>\n",
       "      <td>0.0</td>\n",
       "      <td>2017-05-01</td>\n",
       "    </tr>\n",
       "    <tr>\n",
       "      <th>5176</th>\n",
       "      <td>94103</td>\n",
       "      <td>17</td>\n",
       "      <td>1.0</td>\n",
       "      <td>2017-05-01</td>\n",
       "    </tr>\n",
       "    <tr>\n",
       "      <th>5177</th>\n",
       "      <td>94107</td>\n",
       "      <td>2</td>\n",
       "      <td>1.0</td>\n",
       "      <td>2017-05-01</td>\n",
       "    </tr>\n",
       "    <tr>\n",
       "      <th>5178</th>\n",
       "      <td>94108</td>\n",
       "      <td>3</td>\n",
       "      <td>0.0</td>\n",
       "      <td>2017-05-01</td>\n",
       "    </tr>\n",
       "    <tr>\n",
       "      <th>5179</th>\n",
       "      <td>94109</td>\n",
       "      <td>5</td>\n",
       "      <td>1.0</td>\n",
       "      <td>2017-05-01</td>\n",
       "    </tr>\n",
       "    <tr>\n",
       "      <th>5180</th>\n",
       "      <td>94110</td>\n",
       "      <td>16</td>\n",
       "      <td>5.0</td>\n",
       "      <td>2017-05-01</td>\n",
       "    </tr>\n",
       "    <tr>\n",
       "      <th>5181</th>\n",
       "      <td>94112</td>\n",
       "      <td>18</td>\n",
       "      <td>0.0</td>\n",
       "      <td>2017-05-01</td>\n",
       "    </tr>\n",
       "    <tr>\n",
       "      <th>5182</th>\n",
       "      <td>94114</td>\n",
       "      <td>3</td>\n",
       "      <td>5.0</td>\n",
       "      <td>2017-05-01</td>\n",
       "    </tr>\n",
       "    <tr>\n",
       "      <th>5183</th>\n",
       "      <td>94115</td>\n",
       "      <td>5</td>\n",
       "      <td>0.0</td>\n",
       "      <td>2017-05-01</td>\n",
       "    </tr>\n",
       "    <tr>\n",
       "      <th>5184</th>\n",
       "      <td>94116</td>\n",
       "      <td>2</td>\n",
       "      <td>0.0</td>\n",
       "      <td>2017-05-01</td>\n",
       "    </tr>\n",
       "    <tr>\n",
       "      <th>5185</th>\n",
       "      <td>94117</td>\n",
       "      <td>10</td>\n",
       "      <td>6.0</td>\n",
       "      <td>2017-05-01</td>\n",
       "    </tr>\n",
       "    <tr>\n",
       "      <th>5186</th>\n",
       "      <td>94118</td>\n",
       "      <td>6</td>\n",
       "      <td>7.0</td>\n",
       "      <td>2017-05-01</td>\n",
       "    </tr>\n",
       "    <tr>\n",
       "      <th>5187</th>\n",
       "      <td>94121</td>\n",
       "      <td>5</td>\n",
       "      <td>0.0</td>\n",
       "      <td>2017-05-01</td>\n",
       "    </tr>\n",
       "    <tr>\n",
       "      <th>5188</th>\n",
       "      <td>94122</td>\n",
       "      <td>11</td>\n",
       "      <td>1.0</td>\n",
       "      <td>2017-05-01</td>\n",
       "    </tr>\n",
       "    <tr>\n",
       "      <th>5189</th>\n",
       "      <td>94123</td>\n",
       "      <td>2</td>\n",
       "      <td>2.0</td>\n",
       "      <td>2017-05-01</td>\n",
       "    </tr>\n",
       "    <tr>\n",
       "      <th>5190</th>\n",
       "      <td>94124</td>\n",
       "      <td>10</td>\n",
       "      <td>0.0</td>\n",
       "      <td>2017-05-01</td>\n",
       "    </tr>\n",
       "    <tr>\n",
       "      <th>5191</th>\n",
       "      <td>94127</td>\n",
       "      <td>1</td>\n",
       "      <td>NaN</td>\n",
       "      <td>2017-05-01</td>\n",
       "    </tr>\n",
       "    <tr>\n",
       "      <th>5192</th>\n",
       "      <td>94131</td>\n",
       "      <td>3</td>\n",
       "      <td>1.0</td>\n",
       "      <td>2017-05-01</td>\n",
       "    </tr>\n",
       "    <tr>\n",
       "      <th>5193</th>\n",
       "      <td>94132</td>\n",
       "      <td>17</td>\n",
       "      <td>0.0</td>\n",
       "      <td>2017-05-01</td>\n",
       "    </tr>\n",
       "    <tr>\n",
       "      <th>5194</th>\n",
       "      <td>94133</td>\n",
       "      <td>1</td>\n",
       "      <td>3.0</td>\n",
       "      <td>2017-05-01</td>\n",
       "    </tr>\n",
       "    <tr>\n",
       "      <th>5195</th>\n",
       "      <td>94134</td>\n",
       "      <td>5</td>\n",
       "      <td>0.0</td>\n",
       "      <td>2017-05-01</td>\n",
       "    </tr>\n",
       "    <tr>\n",
       "      <th>5196</th>\n",
       "      <td>Unknown_ZIP</td>\n",
       "      <td>2</td>\n",
       "      <td>NaN</td>\n",
       "      <td>2017-05-01</td>\n",
       "    </tr>\n",
       "    <tr>\n",
       "      <th>5197</th>\n",
       "      <td>Unknown_ZIP</td>\n",
       "      <td>152</td>\n",
       "      <td>NaN</td>\n",
       "      <td>2017-06-01</td>\n",
       "    </tr>\n",
       "  </tbody>\n",
       "</table>\n",
       "<p>5198 rows × 4 columns</p>\n",
       "</div>"
      ],
      "text/plain": [
       "     Address_Zipcode  Eviction_Notice  Ground (landlord): Capital Improvement  \\\n",
       "0              94102                5                                     NaN   \n",
       "1              94103                7                                     NaN   \n",
       "2              94107                1                                     NaN   \n",
       "3              94108                4                                     NaN   \n",
       "4              94109               10                                     NaN   \n",
       "5              94110               20                                     NaN   \n",
       "6              94112                8                                     NaN   \n",
       "7              94114               10                                     NaN   \n",
       "8              94115                8                                     NaN   \n",
       "9              94116                6                                     NaN   \n",
       "10             94117               10                                     NaN   \n",
       "11             94118                6                                     NaN   \n",
       "12             94121                9                                     NaN   \n",
       "13             94122               11                                     NaN   \n",
       "14             94123                6                                     NaN   \n",
       "15             94124                1                                     NaN   \n",
       "16             94127                4                                     NaN   \n",
       "17             94131                3                                     NaN   \n",
       "18             94132                3                                     NaN   \n",
       "19             94133                9                                     NaN   \n",
       "20             94134                3                                     NaN   \n",
       "21       Unknown_ZIP               39                                     NaN   \n",
       "22             94102                5                                     NaN   \n",
       "23             94103                6                                     NaN   \n",
       "24             94107                3                                     NaN   \n",
       "25             94108                2                                     NaN   \n",
       "26             94109               13                                     NaN   \n",
       "27             94110               23                                     NaN   \n",
       "28             94111                1                                     NaN   \n",
       "29             94112                4                                     NaN   \n",
       "...              ...              ...                                     ...   \n",
       "5168           94121                5                                     3.0   \n",
       "5169           94122                9                                     1.0   \n",
       "5170           94124                7                                     0.0   \n",
       "5171           94132                4                                     0.0   \n",
       "5172           94133                4                                     5.0   \n",
       "5173           94134                6                                     0.0   \n",
       "5174     Unknown_ZIP                4                                     NaN   \n",
       "5175           94102                2                                     0.0   \n",
       "5176           94103               17                                     1.0   \n",
       "5177           94107                2                                     1.0   \n",
       "5178           94108                3                                     0.0   \n",
       "5179           94109                5                                     1.0   \n",
       "5180           94110               16                                     5.0   \n",
       "5181           94112               18                                     0.0   \n",
       "5182           94114                3                                     5.0   \n",
       "5183           94115                5                                     0.0   \n",
       "5184           94116                2                                     0.0   \n",
       "5185           94117               10                                     6.0   \n",
       "5186           94118                6                                     7.0   \n",
       "5187           94121                5                                     0.0   \n",
       "5188           94122               11                                     1.0   \n",
       "5189           94123                2                                     2.0   \n",
       "5190           94124               10                                     0.0   \n",
       "5191           94127                1                                     NaN   \n",
       "5192           94131                3                                     1.0   \n",
       "5193           94132               17                                     0.0   \n",
       "5194           94133                1                                     3.0   \n",
       "5195           94134                5                                     0.0   \n",
       "5196     Unknown_ZIP                2                                     NaN   \n",
       "5197     Unknown_ZIP              152                                     NaN   \n",
       "\n",
       "     Month_Year  \n",
       "0    1997-01-01  \n",
       "1    1997-01-01  \n",
       "2    1997-01-01  \n",
       "3    1997-01-01  \n",
       "4    1997-01-01  \n",
       "5    1997-01-01  \n",
       "6    1997-01-01  \n",
       "7    1997-01-01  \n",
       "8    1997-01-01  \n",
       "9    1997-01-01  \n",
       "10   1997-01-01  \n",
       "11   1997-01-01  \n",
       "12   1997-01-01  \n",
       "13   1997-01-01  \n",
       "14   1997-01-01  \n",
       "15   1997-01-01  \n",
       "16   1997-01-01  \n",
       "17   1997-01-01  \n",
       "18   1997-01-01  \n",
       "19   1997-01-01  \n",
       "20   1997-01-01  \n",
       "21   1997-01-01  \n",
       "22   1997-02-01  \n",
       "23   1997-02-01  \n",
       "24   1997-02-01  \n",
       "25   1997-02-01  \n",
       "26   1997-02-01  \n",
       "27   1997-02-01  \n",
       "28   1997-02-01  \n",
       "29   1997-02-01  \n",
       "...         ...  \n",
       "5168 2017-04-01  \n",
       "5169 2017-04-01  \n",
       "5170 2017-04-01  \n",
       "5171 2017-04-01  \n",
       "5172 2017-04-01  \n",
       "5173 2017-04-01  \n",
       "5174 2017-04-01  \n",
       "5175 2017-05-01  \n",
       "5176 2017-05-01  \n",
       "5177 2017-05-01  \n",
       "5178 2017-05-01  \n",
       "5179 2017-05-01  \n",
       "5180 2017-05-01  \n",
       "5181 2017-05-01  \n",
       "5182 2017-05-01  \n",
       "5183 2017-05-01  \n",
       "5184 2017-05-01  \n",
       "5185 2017-05-01  \n",
       "5186 2017-05-01  \n",
       "5187 2017-05-01  \n",
       "5188 2017-05-01  \n",
       "5189 2017-05-01  \n",
       "5190 2017-05-01  \n",
       "5191 2017-05-01  \n",
       "5192 2017-05-01  \n",
       "5193 2017-05-01  \n",
       "5194 2017-05-01  \n",
       "5195 2017-05-01  \n",
       "5196 2017-05-01  \n",
       "5197 2017-06-01  \n",
       "\n",
       "[5198 rows x 4 columns]"
      ]
     },
     "execution_count": 42,
     "metadata": {},
     "output_type": "execute_result"
    }
   ],
   "source": [
    "merged_final[['Address_Zipcode','Eviction_Notice','Ground (landlord): Capital Improvement','Month_Year']]"
   ]
  },
  {
   "cell_type": "code",
   "execution_count": 43,
   "metadata": {
    "collapsed": true
   },
   "outputs": [],
   "source": [
    "merged_dropped_final = merged_final.dropna(subset=['Ground (landlord): Capital Improvement'],inplace=False)\n"
   ]
  },
  {
   "cell_type": "code",
   "execution_count": 44,
   "metadata": {
    "collapsed": true
   },
   "outputs": [],
   "source": [
    "new_merged_final = merged_dropped_final[['Eviction_Notice','Ground (landlord): Capital Improvement','Month_Year']]\n"
   ]
  },
  {
   "cell_type": "code",
   "execution_count": 51,
   "metadata": {},
   "outputs": [
    {
     "data": {
      "text/plain": [
       "<matplotlib.legend.Legend at 0x1144ae350>"
      ]
     },
     "execution_count": 51,
     "metadata": {},
     "output_type": "execute_result"
    }
   ],
   "source": [
    "plt.plot(final_df.groupby('Month_Year').sum().reset_index()['Month_Year'],final_df.groupby('Month_Year').sum().reset_index()['Eviction_Notice'].apply(lambda x: x/4.),label='Eviction Notices (Divided by 4)', color = '#2c7fb8')\n",
    "plt.plot(new_capital_df.groupby('Date Filed').sum().reset_index()['Date Filed'],new_capital_df.groupby('Date Filed').sum().reset_index()['Ground (landlord): Capital Improvement'],label='Capital Improvement', color = '#FF8C00')\n",
    "#plt.title('Eviction Notices v. Capital Improvements Requests')\n",
    "plt.xlabel('Months')\n",
    "plt.ylabel('Eviction Notices/4 and Capital Improvements')\n",
    "plt.legend()"
   ]
  },
  {
   "cell_type": "code",
   "execution_count": 52,
   "metadata": {},
   "outputs": [
    {
     "data": {
      "image/png": "[encoded data removed]",
      "text/plain": [
       "<matplotlib.figure.Figure at 0x114f41950>"
      ]
     },
     "metadata": {},
     "output_type": "display_data"
    }
   ],
   "source": [
    "plt.show()"
   ]
  },
  {
   "cell_type": "code",
   "execution_count": null,
   "metadata": {
    "collapsed": true
   },
   "outputs": [],
   "source": [
    "plt.plot(new_merged_final.groupby('Month_Year').sum().reset_index()['Month_Year'],new_merged_final.groupby('Month_Year').sum().reset_index()['Eviction_Notice'].apply(lambda x: x/4.),label='Eviction Notices (Divided by 4)')\n",
    "plt.plot(new_merged_final.groupby('Month_Year').sum().reset_index()['Month_Year'],new_merged_final.groupby('Month_Year').sum().reset_index()['Ground (landlord): Capital Improvement'],label='Capital Improvement, 6 months prior')\n",
    "plt.title('Eviction Notices v. # of Capital Improvements Requests Six Month Prior')\n",
    "plt.xlabel('Months')\n",
    "plt.ylabel('Eviction Notices/10 and Capital Improvements')\n",
    "plt.legend()\n",
    "\n"
   ]
  },
  {
   "cell_type": "code",
   "execution_count": null,
   "metadata": {
    "collapsed": true
   },
   "outputs": [],
   "source": [
    "plt.show()"
   ]
  },
  {
   "cell_type": "code",
   "execution_count": null,
   "metadata": {
    "collapsed": true
   },
   "outputs": [],
   "source": []
  },
  {
   "cell_type": "code",
   "execution_count": null,
   "metadata": {
    "collapsed": true
   },
   "outputs": [],
   "source": []
  },
  {
   "cell_type": "code",
   "execution_count": null,
   "metadata": {
    "collapsed": true
   },
   "outputs": [],
   "source": []
  },
  {
   "cell_type": "code",
   "execution_count": null,
   "metadata": {
    "collapsed": true
   },
   "outputs": [],
   "source": [
    "merged_year_prior = pd.merge(final_df,new_capital_df,how='left',left_on=['Address_Zipcode','datetime_one_year_prior'], right_on=['Petition Source Zipcode','Date Filed'])\n"
   ]
  },
  {
   "cell_type": "code",
   "execution_count": null,
   "metadata": {
    "collapsed": true
   },
   "outputs": [],
   "source": [
    "merged_year_prior[['Address_Zipcode','Eviction_Notice','Ground (landlord): Capital Improvement','Month_Year']]"
   ]
  },
  {
   "cell_type": "code",
   "execution_count": null,
   "metadata": {
    "collapsed": true
   },
   "outputs": [],
   "source": [
    "merged_dropped_year_prior = merged_year_prior.dropna(subset=['Ground (landlord): Capital Improvement'],inplace=False)\n"
   ]
  },
  {
   "cell_type": "code",
   "execution_count": null,
   "metadata": {
    "collapsed": true
   },
   "outputs": [],
   "source": [
    "new_merged_year_prior = merged_dropped_year_prior[['Eviction_Notice','Ground (landlord): Capital Improvement','Month_Year']]\n"
   ]
  },
  {
   "cell_type": "code",
   "execution_count": null,
   "metadata": {
    "collapsed": true
   },
   "outputs": [],
   "source": [
    "plt.plot(new_merged_year_prior.groupby('Month_Year').sum().reset_index()['Month_Year'],new_merged_year_prior.groupby('Month_Year').sum().reset_index()['Eviction_Notice'].apply(lambda x: x/4.),label='Eviction Notices (Divided by 4)')\n",
    "plt.plot(new_merged_year_prior.groupby('Month_Year').sum().reset_index()['Month_Year'],new_merged_year_prior.groupby('Month_Year').sum().reset_index()['Ground (landlord): Capital Improvement'],label='Capital Improvement, 6 months prior')\n",
    "plt.title('Eviction Notices v. # of Capital Improvements Requests One Year Prior')\n",
    "plt.xlabel('Months')\n",
    "plt.ylabel('Eviction Notices/4 and Capital Improvements')\n",
    "plt.legend()\n"
   ]
  },
  {
   "cell_type": "code",
   "execution_count": null,
   "metadata": {
    "collapsed": true
   },
   "outputs": [],
   "source": [
    "plt.show()"
   ]
  },
  {
   "cell_type": "code",
   "execution_count": null,
   "metadata": {
    "collapsed": true
   },
   "outputs": [],
   "source": [
    "plt."
   ]
  }
 ],
 "metadata": {
  "kernelspec": {
   "display_name": "Python 2",
   "language": "python",
   "name": "python2"
  },
  "language_info": {
   "codemirror_mode": {
    "name": "ipython",
    "version": 2
   },
   "file_extension": ".py",
   "mimetype": "text/x-python",
   "name": "python",
   "nbconvert_exporter": "python",
   "pygments_lexer": "ipython2",
   "version": "2.7.9"
  }
 },
 "nbformat": 4,
 "nbformat_minor": 2
}
